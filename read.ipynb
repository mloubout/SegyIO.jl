{
  "cells": [
    {
      "cell_type": "markdown",
      "metadata": {},
      "source": [
        "# Read\n",
        "\n",
        "This page shows how to read SEGY data using **pysegy**."
      ],
      "id": "8666a0b7-aa9d-4a54-82c9-2375cf4ca7ff"
    },
    {
      "cell_type": "code",
      "execution_count": 1,
      "metadata": {},
      "outputs": [
        {
          "output_type": "stream",
          "name": "stdout",
          "text": [
            "Reading SEGY file ../data/overthrust_2D_shot_1_20.segy\n",
            "Loaded header ns=751 dt=4000 from ../data/overthrust_2D_shot_1_20.segy\n",
            "751"
          ]
        }
      ],
      "source": [
        "import pysegy as seg\n",
        "\n",
        "# path to a SEGY file shipped with the repository\n",
        "path = \"../data/overthrust_2D_shot_1_20.segy\"\n",
        "\n",
        "# load the file into memory\n",
        "block = seg.segy_read(path)\n",
        "\n",
        "# file header information\n",
        "print(block.fileheader.bfh.ns)"
      ],
      "id": "2e6dcded"
    },
    {
      "cell_type": "markdown",
      "metadata": {},
      "source": [
        "Use [pysegy.segy_read](reference/pysegy.qmd#segy_read) to read an entire\n",
        "file in one call. The returned\n",
        "[pysegy.SeisBlock](reference/pysegy.qmd#SeisBlock) contains the file\n",
        "header, trace headers and data array."
      ],
      "id": "87fd2c59-8ab9-4ddd-b6a5-582dbc83a798"
    }
  ],
  "nbformat": 4,
  "nbformat_minor": 5,
  "metadata": {
    "kernelspec": {
      "name": "python3",
      "display_name": "Python 3 (ipykernel)",
      "language": "python",
      "path": "/opt/hostedtoolcache/Python/3.11.12/x64/share/jupyter/kernels/python3"
    },
    "language_info": {
      "name": "python",
      "codemirror_mode": {
        "name": "ipython",
        "version": "3"
      },
      "file_extension": ".py",
      "mimetype": "text/x-python",
      "nbconvert_exporter": "python",
      "pygments_lexer": "ipython3",
      "version": "3.11.12"
    }
  }
}