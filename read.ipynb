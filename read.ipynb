{
  "cells": [
    {
      "cell_type": "markdown",
      "metadata": {},
      "source": [
        "# Read\n",
        "\n",
        "This page shows how to read SEGY data using **pysegy**."
      ],
      "id": "1aa408b3-5da4-47de-b9d6-7e76ca0c1b5b"
    },
    {
      "cell_type": "code",
      "execution_count": 1,
      "metadata": {},
      "outputs": [
        {
          "output_type": "stream",
          "name": "stdout",
          "text": [
            "Reading SEGY file ../data/overthrust_2D_shot_1_20.segy\n",
            "Loaded header ns=751 dt=4000 from ../data/overthrust_2D_shot_1_20.segy\n",
            "751"
          ]
        }
      ],
      "source": [
        "import pysegy as seg\n",
        "\n",
        "# path to a SEGY file shipped with the repository\n",
        "path = \"../data/overthrust_2D_shot_1_20.segy\"\n",
        "\n",
        "# load the file into memory\n",
        "block = seg.segy_read(path)\n",
        "\n",
        "# file header information\n",
        "print(block.fileheader.bfh.ns)"
      ],
      "id": "e5ecc92b"
    },
    {
      "cell_type": "markdown",
      "metadata": {},
      "source": [
        "Use [pysegy.segy_read](reference/segy_read.html#pysegy.segy_read) to\n",
        "read an entire file in one call. The returned\n",
        "[pysegy.SeisBlock](reference/SeisBlock.html) contains the file header,\n",
        "trace headers and data array."
      ],
      "id": "262d305b-e730-4061-a1f5-5c4b14e4c593"
    }
  ],
  "nbformat": 4,
  "nbformat_minor": 5,
  "metadata": {
    "kernelspec": {
      "name": "python3",
      "display_name": "Python 3 (ipykernel)",
      "language": "python",
      "path": "/opt/hostedtoolcache/Python/3.11.13/x64/share/jupyter/kernels/python3"
    },
    "language_info": {
      "name": "python",
      "codemirror_mode": {
        "name": "ipython",
        "version": "3"
      },
      "file_extension": ".py",
      "mimetype": "text/x-python",
      "nbconvert_exporter": "python",
      "pygments_lexer": "ipython3",
      "version": "3.11.13"
    }
  }
}