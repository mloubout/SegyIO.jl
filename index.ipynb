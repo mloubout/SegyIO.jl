{
  "cells": [
    {
      "cell_type": "markdown",
      "metadata": {},
      "source": [
        "# pysegy\n",
        "\n",
        "# pysegy\n",
        "\n",
        "[![CI](https://github.com/mloubout/pysegy/actions/workflows/main.yml/badge.svg)](https://github.com/mloubout/pysegy/actions/workflows/main.yml)\n",
        "[![Docs](https://github.com/mloubout/pysegy/actions/workflows/docs.yml/badge.svg)](https://mloubout.github.io/pysegy)\n",
        "[![codecov](https://codecov.io/gh/mloubout/pysegy/branch/master/graph/badge.svg)](https://codecov.io/gh/mloubout/pysegy)\n",
        "\n",
        "`pysegy` is a minimal Python library for reading and writing SEGY Rev 1\n",
        "files. The package focuses on simplicity and provides helpers to parse\n",
        "headers and traces from local files.\n",
        "\n",
        "## Installation\n",
        "\n",
        "Install the project in editable mode from the repository root:\n",
        "\n",
        "``` bash\n",
        "python -m pip install -e .\n",
        "```\n",
        "\n",
        "## Testing\n",
        "\n",
        "Run the unit tests with `pytest`:\n",
        "\n",
        "``` bash\n",
        "pytest -vs\n",
        "```\n",
        "\n",
        "The tests run automatically on GitHub Actions with coverage reports\n",
        "uploaded to Codecov."
      ],
      "id": "40d2def8-c504-4521-a008-40178537ea64"
    }
  ],
  "nbformat": 4,
  "nbformat_minor": 5,
  "metadata": {
    "kernelspec": {
      "display_name": "Python 3",
      "language": "python",
      "name": "python3"
    }
  }
}