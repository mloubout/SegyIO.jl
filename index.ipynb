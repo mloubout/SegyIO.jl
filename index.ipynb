{
  "cells": [
    {
      "cell_type": "markdown",
      "metadata": {},
      "source": [
        "# pysegy\n",
        "\n",
        "# pysegy\n",
        "\n",
        "[![CI](https://github.com/mloubout/pysegy/actions/workflows/main.yml/badge.svg)](https://github.com/mloubout/pysegy/actions/workflows/main.yml)\n",
        "[![Docs](https://github.com/mloubout/pysegy/actions/workflows/docs.yml/badge.svg)](https://mloubout.github.io/pysegy)\n",
        "[![codecov](https://codecov.io/gh/mloubout/pysegy/branch/master/graph/badge.svg)](https://codecov.io/gh/mloubout/pysegy)\n",
        "\n",
        "`pysegy` is a minimal Python library for working with SEGY Rev 1 data.\n",
        "The project provides helpers to read and write files as well as\n",
        "utilities to scan large surveys without loading every trace in memory.\n",
        "\n",
        "## Capabilities\n",
        "\n",
        "-   Read complete SEGY files with `segy_read` and access both binary and\n",
        "    trace headers.\n",
        "-   Write new data sets using `segy_write` from NumPy arrays.\n",
        "-   Lazily inspect large archives via `segy_scan` and the `SegyScan`\n",
        "    object.\n",
        "-   Retrieve individual header fields with automatic scaling through\n",
        "    `get_header`.\n",
        "-   Compatible with any `fsspec` filesystem for local or remote storage.\n",
        "\n",
        "## Installation\n",
        "\n",
        "Install the project in editable mode from the repository root:\n",
        "\n",
        "``` bash\n",
        "python -m pip install -e .\n",
        "```\n",
        "\n",
        "## Testing\n",
        "\n",
        "Run the unit tests with `pytest`:\n",
        "\n",
        "``` bash\n",
        "pytest -vs\n",
        "```\n",
        "\n",
        "The tests run automatically on GitHub Actions with coverage reports\n",
        "uploaded to Codecov.\n",
        "\n",
        "## Inspiration\n",
        "\n",
        "This project started as a lightweight port of the Julia package\n",
        "[SegyIO.jl](https://github.com/slimgroup/SegyIO.jl). The goal is to\n",
        "provide a similar user experience for Python while keeping the code base\n",
        "small and easy to understand."
      ],
      "id": "044d101a-1d3a-40d0-9e7c-4e8818fade9c"
    }
  ],
  "nbformat": 4,
  "nbformat_minor": 5,
  "metadata": {
    "kernelspec": {
      "display_name": "Python 3",
      "language": "python",
      "name": "python3"
    }
  }
}