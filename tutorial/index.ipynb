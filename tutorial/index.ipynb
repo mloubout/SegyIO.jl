{
  "cells": [
    {
      "cell_type": "markdown",
      "metadata": {},
      "source": [
        "# Tutorial\n",
        "\n",
        "Tutorials show how to use **pysegy** in practice."
      ],
      "id": "a89ed7ee-32fb-434f-85c8-cb80d3b93fdb"
    }
  ],
  "nbformat": 4,
  "nbformat_minor": 5,
  "metadata": {
    "kernelspec": {
      "display_name": "Python 3",
      "language": "python",
      "name": "python3"
    }
  }
}