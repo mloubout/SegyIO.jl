{
  "cells": [
    {
      "cell_type": "markdown",
      "metadata": {},
      "source": [
        "# \n",
        "\n",
        "# segy_read\n",
        "\n",
        "``` python\n",
        "segy_read(path, keys=None, workers=5, fs=None)\n",
        "```\n",
        "\n",
        "Convenience wrapper to read a SEGY file.\n",
        "\n",
        "## Parameters\n",
        "\n",
        "| Name | Type | Description | Default |\n",
        "|-----|------------|--------------------------------------------------|-------|\n",
        "| path | str | File system path to the SEGY file. When `fs` is provided the path is interpreted relative to that filesystem. | *required* |\n",
        "| fs | filesystem-like object | Filesystem providing `open` if reading from non-local storage. | `None` |\n",
        "| keys | Iterable\\[str\\] | Additional header fields to load with each trace. | `None` |\n",
        "\n",
        "## Returns\n",
        "\n",
        "| Name | Type      | Description     |\n",
        "|------|-----------|-----------------|\n",
        "|      | SeisBlock | Loaded dataset. |"
      ],
      "id": "1d31574f-5fe9-4930-8135-60ca05be052f"
    }
  ],
  "nbformat": 4,
  "nbformat_minor": 5,
  "metadata": {
    "kernelspec": {
      "display_name": "Python 3",
      "language": "python",
      "name": "python3"
    }
  }
}