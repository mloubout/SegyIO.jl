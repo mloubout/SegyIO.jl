{
  "cells": [
    {
      "cell_type": "markdown",
      "metadata": {},
      "source": [
        "# \n",
        "\n",
        "# plot_fslice\n",
        "\n",
        "``` python\n",
        "plot_fslice(image, spacing=None, **kw)\n",
        "```\n",
        "\n",
        "Display a 2D frequency slice.\n",
        "\n",
        "## Parameters\n",
        "\n",
        "| Name | Type | Description | Default |\n",
        "|------|-----------------------|------------------------------------|--------|\n",
        "| image | array - like or SeisBlock or ShotRecord | Frequency-domain slice to plot. | *required* |\n",
        "| spacing | (float, float) | `(dz, dx)` sample spacing derived from `image` when omitted. | `None` |"
      ],
      "id": "9b4d49c1-96c9-405a-83bd-1631b444fe0c"
    }
  ],
  "nbformat": 4,
  "nbformat_minor": 5,
  "metadata": {
    "kernelspec": {
      "display_name": "Python 3",
      "language": "python",
      "name": "python3"
    }
  }
}