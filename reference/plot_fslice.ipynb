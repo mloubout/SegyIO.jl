{
  "cells": [
    {
      "cell_type": "markdown",
      "metadata": {},
      "source": [
        "# \n",
        "\n",
        "# plot_fslice\n",
        "\n",
        "``` python\n",
        "plot_fslice(image, spacing=None, **kw)\n",
        "```\n",
        "\n",
        "Display a 2D frequency slice.\n",
        "\n",
        "## Parameters\n",
        "\n",
        "| Name | Type | Description | Default |\n",
        "|------|-----------------------|------------------------------------|--------|\n",
        "| image | array - like or SeisBlock or ShotRecord | Frequency-domain slice to plot. | *required* |\n",
        "| spacing | (float, float) | `(dz, dx)` sample spacing derived from `image` when omitted. | `None` |"
      ],
      "id": "24f9fe8a-b16c-49a1-b27b-eaea094a17ee"
    }
  ],
  "nbformat": 4,
  "nbformat_minor": 5,
  "metadata": {
    "kernelspec": {
      "display_name": "Python 3",
      "language": "python",
      "name": "python3"
    }
  }
}