{
  "cells": [
    {
      "cell_type": "markdown",
      "metadata": {},
      "source": [
        "# \n",
        "\n",
        "# plot_fslice\n",
        "\n",
        "``` python\n",
        "plot_fslice(image, spacing=None, **kw)\n",
        "```\n",
        "\n",
        "Display a 2D frequency slice.\n",
        "\n",
        "## Parameters\n",
        "\n",
        "| Name | Type | Description | Default |\n",
        "|------|-----------------------|------------------------------------|--------|\n",
        "| image | array - like or SeisBlock or ShotRecord | Frequency-domain slice to plot. | *required* |\n",
        "| spacing | (float, float) | `(dz, dx)` sample spacing derived from `image` when omitted. | `None` |"
      ],
      "id": "c0efd0b1-5326-4cdd-bf01-89bea689419c"
    }
  ],
  "nbformat": 4,
  "nbformat_minor": 5,
  "metadata": {
    "kernelspec": {
      "display_name": "Python 3",
      "language": "python",
      "name": "python3"
    }
  }
}