{
  "cells": [
    {
      "cell_type": "markdown",
      "metadata": {},
      "source": [
        "# \n",
        "\n",
        "# plot_sdata\n",
        "\n",
        "``` python\n",
        "plot_sdata(image, spacing=None, **kw)\n",
        "```\n",
        "\n",
        "Visualize a single shot record.\n",
        "\n",
        "`image` may be a raw `ndarray` or a :class:`SeisBlock` or\n",
        ":class:`ShotRecord`. `spacing` follows the same rules as in\n",
        ":func:`plot_simage`."
      ],
      "id": "2988b63c-68fc-4e07-b220-6e95c8049e0c"
    }
  ],
  "nbformat": 4,
  "nbformat_minor": 5,
  "metadata": {
    "kernelspec": {
      "display_name": "Python 3",
      "language": "python",
      "name": "python3"
    }
  }
}