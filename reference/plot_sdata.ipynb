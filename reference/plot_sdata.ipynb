{
  "cells": [
    {
      "cell_type": "markdown",
      "metadata": {},
      "source": [
        "# \n",
        "\n",
        "# plot_sdata\n",
        "\n",
        "``` python\n",
        "plot_sdata(image, spacing=None, **kw)\n",
        "```\n",
        "\n",
        "Visualize a single shot record.\n",
        "\n",
        "`image` may be a raw `ndarray` or a :class:`SeisBlock` or\n",
        ":class:`ShotRecord`. `spacing` follows the same rules as in\n",
        ":func:`plot_simage`."
      ],
      "id": "78e9a487-c367-432d-9819-16478530b2ef"
    }
  ],
  "nbformat": 4,
  "nbformat_minor": 5,
  "metadata": {
    "kernelspec": {
      "display_name": "Python 3",
      "language": "python",
      "name": "python3"
    }
  }
}