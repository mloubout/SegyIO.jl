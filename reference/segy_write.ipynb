{
  "cells": [
    {
      "cell_type": "markdown",
      "metadata": {},
      "source": [
        "# \n",
        "\n",
        "# segy_write\n",
        "\n",
        "``` python\n",
        "segy_write(path, block, fs=None)\n",
        "```\n",
        "\n",
        "Convenience wrapper to write `block` to `path`.\n",
        "\n",
        "## Parameters\n",
        "\n",
        "| Name | Type | Description | Default |\n",
        "|------|-------|-----------------------------------------------------|--------|\n",
        "| path | str | Destination file path. When `fs` is provided the path is interpreted relative to that filesystem. | *required* |\n",
        "| block | SeisBlock | Dataset to write to disk. | *required* |"
      ],
      "id": "e9627d7d-a454-417a-b33d-23c9671f1fce"
    }
  ],
  "nbformat": 4,
  "nbformat_minor": 5,
  "metadata": {
    "kernelspec": {
      "display_name": "Python 3",
      "language": "python",
      "name": "python3"
    }
  }
}