{
  "cells": [
    {
      "cell_type": "markdown",
      "metadata": {},
      "source": [
        "# \n",
        "\n",
        "# segy_write\n",
        "\n",
        "``` python\n",
        "segy_write(path, block, fs=None)\n",
        "```\n",
        "\n",
        "Convenience wrapper to write `block` to `path`.\n",
        "\n",
        "## Parameters\n",
        "\n",
        "| Name | Type | Description | Default |\n",
        "|------|-------|-----------------------------------------------------|--------|\n",
        "| path | str | Destination file path. When `fs` is provided the path is interpreted relative to that filesystem. | *required* |\n",
        "| block | SeisBlock | Dataset to write to disk. | *required* |"
      ],
      "id": "daf742b4-91d4-499f-b9ed-2f12d399e0dc"
    }
  ],
  "nbformat": 4,
  "nbformat_minor": 5,
  "metadata": {
    "kernelspec": {
      "display_name": "Python 3",
      "language": "python",
      "name": "python3"
    }
  }
}