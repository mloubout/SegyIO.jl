{
  "cells": [
    {
      "cell_type": "markdown",
      "metadata": {},
      "source": [
        "# \n",
        "\n",
        "# BinaryTraceHeader\n",
        "\n",
        "``` python\n",
        "BinaryTraceHeader(values=lambda: {k: 0for k in TH_FIELDS}(), keys_loaded=list())\n",
        "```\n",
        "\n",
        "Container for parsed binary trace header values."
      ],
      "id": "4d6b6716-ce99-4bce-bd1b-d2794f88490e"
    }
  ],
  "nbformat": 4,
  "nbformat_minor": 5,
  "metadata": {
    "kernelspec": {
      "display_name": "Python 3",
      "language": "python",
      "name": "python3"
    }
  }
}