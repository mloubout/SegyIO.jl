{
  "cells": [
    {
      "cell_type": "markdown",
      "metadata": {},
      "source": [
        "# \n",
        "\n",
        "# BinaryTraceHeader\n",
        "\n",
        "``` python\n",
        "BinaryTraceHeader(values=lambda: {k: 0for k in TH_FIELDS}(), keys_loaded=list())\n",
        "```\n",
        "\n",
        "Container for parsed binary trace header values."
      ],
      "id": "23d9a282-47d4-43c8-95b3-88339fa8e36b"
    }
  ],
  "nbformat": 4,
  "nbformat_minor": 5,
  "metadata": {
    "kernelspec": {
      "display_name": "Python 3",
      "language": "python",
      "name": "python3"
    }
  }
}