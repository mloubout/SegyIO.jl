{
  "cells": [
    {
      "cell_type": "markdown",
      "metadata": {},
      "source": [
        "# \n",
        "\n",
        "# BinaryTraceHeader\n",
        "\n",
        "``` python\n",
        "BinaryTraceHeader(values=lambda: {k: 0for k in TH_FIELDS}(), keys_loaded=list())\n",
        "```\n",
        "\n",
        "Container for parsed binary trace header values."
      ],
      "id": "6ef061ae-ff8f-4703-ace3-3b026031baa5"
    }
  ],
  "nbformat": 4,
  "nbformat_minor": 5,
  "metadata": {
    "kernelspec": {
      "display_name": "Python 3",
      "language": "python",
      "name": "python3"
    }
  }
}