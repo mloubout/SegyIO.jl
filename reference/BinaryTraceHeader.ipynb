{
  "cells": [
    {
      "cell_type": "markdown",
      "metadata": {},
      "source": [
        "# \n",
        "\n",
        "# BinaryTraceHeader\n",
        "\n",
        "``` python\n",
        "BinaryTraceHeader(values=lambda: {k: 0for k in TH_FIELDS}(), keys_loaded=list())\n",
        "```\n",
        "\n",
        "Container for parsed binary trace header values."
      ],
      "id": "031991ab-9498-4776-ae25-5e30aa79809d"
    }
  ],
  "nbformat": 4,
  "nbformat_minor": 5,
  "metadata": {
    "kernelspec": {
      "display_name": "Python 3",
      "language": "python",
      "name": "python3"
    }
  }
}