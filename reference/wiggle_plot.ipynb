{
  "cells": [
    {
      "cell_type": "markdown",
      "metadata": {},
      "source": [
        "# \n",
        "\n",
        "# wiggle_plot\n",
        "\n",
        "``` python\n",
        "wiggle_plot(data, xrec=None, time_axis=None, *, t_scale=1.5, new_fig=True)\n",
        "```\n",
        "\n",
        "Generate a classic wiggle plot for `data`.\n",
        "\n",
        "`data` can be an `ndarray` or seismic container. When `xrec` or\n",
        "`time_axis` are omitted they are inferred from the headers when\n",
        "possible."
      ],
      "id": "5c15da0c-ad5e-42cc-9c0b-0d6019fd0fb6"
    }
  ],
  "nbformat": 4,
  "nbformat_minor": 5,
  "metadata": {
    "kernelspec": {
      "display_name": "Python 3",
      "language": "python",
      "name": "python3"
    }
  }
}