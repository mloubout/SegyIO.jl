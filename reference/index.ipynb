{
  "cells": [
    {
      "cell_type": "markdown",
      "metadata": {},
      "source": [
        "# \n",
        "\n",
        "# Function reference\n",
        "\n",
        "## pysegy\n",
        "\n",
        "|  |  |\n",
        "|------------------------------------|------------------------------------|\n",
        "| [ShotRecord](ShotRecord.qmd#pysegy.ShotRecord) | Information about a single shot location within a SEGY file. |\n",
        "| [SegyScan](SegyScan.qmd#pysegy.SegyScan) | Representation of SEGY data grouped by shot. |\n",
        "| [SeisBlock](SeisBlock.qmd#pysegy.SeisBlock) | In-memory representation of a SEGY dataset. |\n",
        "| [segy_scan](segy_scan.qmd#pysegy.segy_scan) | Scan one or more SEGY files and merge the results. |\n",
        "| [segy_read](segy_read.qmd#pysegy.segy_read) | Convenience wrapper to read a SEGY file. |\n",
        "| [segy_write](segy_write.qmd#pysegy.segy_write) | Convenience wrapper to write `block` to `path`. |\n",
        "| [save_scan](save_scan.qmd#pysegy.save_scan) | Serialize `scan` to `path`. |\n",
        "| [load_scan](load_scan.qmd#pysegy.load_scan) | Load a :class:`SegyScan` previously saved with :func:`save_scan`. |\n",
        "| [BinaryFileHeader](BinaryFileHeader.qmd#pysegy.BinaryFileHeader) | Container for parsed binary file header values. |\n",
        "| [BinaryTraceHeader](BinaryTraceHeader.qmd#pysegy.BinaryTraceHeader) | Container for parsed binary trace header values. |\n",
        "| [FileHeader](FileHeader.qmd#pysegy.FileHeader) | Combined textual and binary file header. |\n",
        "\n",
        "## Plotting\n",
        "\n",
        "|  |  |\n",
        "|------------------------------------|------------------------------------|\n",
        "| [plot_simage](plot_simage.qmd#pysegy.plot_simage) | Plot a migrated image with depth on the vertical axis. |\n",
        "| [plot_sdata](plot_sdata.qmd#pysegy.plot_sdata) | Visualize a single shot record. |\n",
        "| [plot_velocity](plot_velocity.qmd#pysegy.plot_velocity) | Plot a velocity model. |\n",
        "| [plot_fslice](plot_fslice.qmd#pysegy.plot_fslice) | Display a 2D frequency slice. |\n",
        "| [wiggle_plot](wiggle_plot.qmd#pysegy.wiggle_plot) | Generate a classic wiggle plot for `data`. |\n",
        "| [compare_shots](compare_shots.qmd#pysegy.compare_shots) | Overlay or juxtapose two shot gathers for comparison. |"
      ],
      "id": "d6cda76f-7198-40c8-b3cf-07fb7a84afd7"
    }
  ],
  "nbformat": 4,
  "nbformat_minor": 5,
  "metadata": {
    "kernelspec": {
      "display_name": "Python 3",
      "language": "python",
      "name": "python3"
    }
  }
}