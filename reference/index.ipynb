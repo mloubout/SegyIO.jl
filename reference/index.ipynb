{
  "cells": [
    {
      "cell_type": "markdown",
      "metadata": {},
      "source": [
        "# \n",
        "\n",
        "# Function reference\n",
        "\n",
        "## pysegy\n",
        "\n",
        "|  |  |\n",
        "|------------------------------------|------------------------------------|\n",
        "| [ShotRecord](ShotRecord.qmd#pysegy.ShotRecord) | Information about a single shot location within a SEGY file. |\n",
        "| [SegyScan](SegyScan.qmd#pysegy.SegyScan) | Representation of SEGY data grouped by shot. |\n",
        "| [SeisBlock](SeisBlock.qmd#pysegy.SeisBlock) | In-memory representation of a SEGY dataset. |\n",
        "| [segy_scan](segy_scan.qmd#pysegy.segy_scan) | Scan one or more SEGY files and merge the results. |\n",
        "| [segy_read](segy_read.qmd#pysegy.segy_read) | Convenience wrapper to read a SEGY file. |\n",
        "| [segy_write](segy_write.qmd#pysegy.segy_write) | Convenience wrapper to write `block` to `path`. |\n",
        "| [save_scan](save_scan.qmd#pysegy.save_scan) | Serialize `scan` to `path`. |\n",
        "| [load_scan](load_scan.qmd#pysegy.load_scan) | Load a :class:`SegyScan` previously saved with :func:`save_scan`. |\n",
        "| [BinaryFileHeader](BinaryFileHeader.qmd#pysegy.BinaryFileHeader) | Container for parsed binary file header values. |\n",
        "| [BinaryTraceHeader](BinaryTraceHeader.qmd#pysegy.BinaryTraceHeader) | Container for parsed binary trace header values. |\n",
        "| [FileHeader](FileHeader.qmd#pysegy.FileHeader) | Combined textual and binary file header. |"
      ],
      "id": "4b444704-18e6-449a-a010-44cd227ae7fc"
    }
  ],
  "nbformat": 4,
  "nbformat_minor": 5,
  "metadata": {
    "kernelspec": {
      "display_name": "Python 3",
      "language": "python",
      "name": "python3"
    }
  }
}