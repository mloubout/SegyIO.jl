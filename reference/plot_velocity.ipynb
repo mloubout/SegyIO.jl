{
  "cells": [
    {
      "cell_type": "markdown",
      "metadata": {},
      "source": [
        "# \n",
        "\n",
        "# plot_velocity\n",
        "\n",
        "``` python\n",
        "plot_velocity(image, spacing=None, **kw)\n",
        "```\n",
        "\n",
        "Plot a velocity model.\n",
        "\n",
        "## Parameters\n",
        "\n",
        "| Name | Type | Description | Default |\n",
        "|------|-----------------------|------------------------------------|--------|\n",
        "| image | array - like or SeisBlock or ShotRecord | Model to display. | *required* |\n",
        "| spacing | (float, float) | `(dz, dx)` sample spacing derived from `image` when omitted. | `None` |"
      ],
      "id": "0d2e81bd-3093-49d5-9a19-4b1b8ed5dd41"
    }
  ],
  "nbformat": 4,
  "nbformat_minor": 5,
  "metadata": {
    "kernelspec": {
      "display_name": "Python 3",
      "language": "python",
      "name": "python3"
    }
  }
}