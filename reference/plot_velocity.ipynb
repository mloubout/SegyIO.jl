{
  "cells": [
    {
      "cell_type": "markdown",
      "metadata": {},
      "source": [
        "# \n",
        "\n",
        "# plot_velocity\n",
        "\n",
        "``` python\n",
        "plot_velocity(image, spacing=None, **kw)\n",
        "```\n",
        "\n",
        "Plot a velocity model.\n",
        "\n",
        "## Parameters\n",
        "\n",
        "| Name | Type | Description | Default |\n",
        "|------|-----------------------|------------------------------------|--------|\n",
        "| image | array - like or SeisBlock or ShotRecord | Model to display. | *required* |\n",
        "| spacing | (float, float) | `(dz, dx)` sample spacing derived from `image` when omitted. | `None` |"
      ],
      "id": "43f6465c-7694-42a2-b40e-c61575da089d"
    }
  ],
  "nbformat": 4,
  "nbformat_minor": 5,
  "metadata": {
    "kernelspec": {
      "display_name": "Python 3",
      "language": "python",
      "name": "python3"
    }
  }
}