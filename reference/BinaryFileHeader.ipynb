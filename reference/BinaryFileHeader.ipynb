{
  "cells": [
    {
      "cell_type": "markdown",
      "metadata": {},
      "source": [
        "# \n",
        "\n",
        "# BinaryFileHeader\n",
        "\n",
        "``` python\n",
        "BinaryFileHeader(\n",
        "    values=lambda: {k: 0for k in FH_FIELDS}(),\n",
        "    keys_loaded=lambda: list(FH_FIELDS)(),\n",
        ")\n",
        "```\n",
        "\n",
        "Container for parsed binary file header values."
      ],
      "id": "22e6028a-0b52-46b9-9ce1-ca847f54e70f"
    }
  ],
  "nbformat": 4,
  "nbformat_minor": 5,
  "metadata": {
    "kernelspec": {
      "display_name": "Python 3",
      "language": "python",
      "name": "python3"
    }
  }
}