{
  "cells": [
    {
      "cell_type": "markdown",
      "metadata": {},
      "source": [
        "# \n",
        "\n",
        "# BinaryFileHeader\n",
        "\n",
        "``` python\n",
        "BinaryFileHeader(\n",
        "    values=lambda: {k: 0for k in FH_FIELDS}(),\n",
        "    keys_loaded=lambda: list(FH_FIELDS)(),\n",
        ")\n",
        "```\n",
        "\n",
        "Container for parsed binary file header values."
      ],
      "id": "70072a03-9185-40d3-973b-a402acd9d936"
    }
  ],
  "nbformat": 4,
  "nbformat_minor": 5,
  "metadata": {
    "kernelspec": {
      "display_name": "Python 3",
      "language": "python",
      "name": "python3"
    }
  }
}