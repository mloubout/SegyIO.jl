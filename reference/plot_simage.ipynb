{
  "cells": [
    {
      "cell_type": "markdown",
      "metadata": {},
      "source": [
        "# \n",
        "\n",
        "# plot_simage\n",
        "\n",
        "``` python\n",
        "plot_simage(image, spacing=None, **kw)\n",
        "```\n",
        "\n",
        "Plot a migrated image with depth on the vertical axis.\n",
        "\n",
        "## Parameters\n",
        "\n",
        "| Name | Type | Description | Default |\n",
        "|----|--------------|-------------------------------------------------|-----|\n",
        "| image | array - like or SeisBlock or ShotRecord | Data to visualize. | *required* |\n",
        "| spacing | (float, float) | `(dz, dx)` sample spacing. If omitted and `image` is a :class:`SeisBlock` or :class:`ShotRecord` the spacing will be extracted from the headers. | `None` |"
      ],
      "id": "61d05dd9-b272-4ee8-9ee0-b4381a9b6ec0"
    }
  ],
  "nbformat": 4,
  "nbformat_minor": 5,
  "metadata": {
    "kernelspec": {
      "display_name": "Python 3",
      "language": "python",
      "name": "python3"
    }
  }
}