{
  "cells": [
    {
      "cell_type": "markdown",
      "metadata": {},
      "source": [
        "# \n",
        "\n",
        "# FileHeader\n",
        "\n",
        "``` python\n",
        "FileHeader(th=b' ' * 3200, bfh=BinaryFileHeader())\n",
        "```\n",
        "\n",
        "Combined textual and binary file header.\n",
        "\n",
        "## Attributes\n",
        "\n",
        "| Name                        | Description                       |\n",
        "|-----------------------------|-----------------------------------|\n",
        "| [th](#pysegy.FileHeader.th) | bytes(iterable_of_ints) -\\> bytes |"
      ],
      "id": "7be31967-89fb-4149-bffa-2e8590c71419"
    }
  ],
  "nbformat": 4,
  "nbformat_minor": 5,
  "metadata": {
    "kernelspec": {
      "display_name": "Python 3",
      "language": "python",
      "name": "python3"
    }
  }
}