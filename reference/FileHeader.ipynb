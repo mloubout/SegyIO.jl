{
  "cells": [
    {
      "cell_type": "markdown",
      "metadata": {},
      "source": [
        "# \n",
        "\n",
        "# FileHeader\n",
        "\n",
        "``` python\n",
        "FileHeader(th=b' ' * 3200, bfh=BinaryFileHeader())\n",
        "```\n",
        "\n",
        "Combined textual and binary file header.\n",
        "\n",
        "## Attributes\n",
        "\n",
        "| Name                        | Description                       |\n",
        "|-----------------------------|-----------------------------------|\n",
        "| [th](#pysegy.FileHeader.th) | bytes(iterable_of_ints) -\\> bytes |"
      ],
      "id": "d38fb67c-ea84-40d1-a40d-21bee6d7a0d8"
    }
  ],
  "nbformat": 4,
  "nbformat_minor": 5,
  "metadata": {
    "kernelspec": {
      "display_name": "Python 3",
      "language": "python",
      "name": "python3"
    }
  }
}