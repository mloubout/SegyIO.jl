{
  "cells": [
    {
      "cell_type": "markdown",
      "metadata": {},
      "source": [
        "# \n",
        "\n",
        "# FileHeader\n",
        "\n",
        "``` python\n",
        "FileHeader(th=b' ' * 3200, bfh=BinaryFileHeader())\n",
        "```\n",
        "\n",
        "Combined textual and binary file header.\n",
        "\n",
        "## Attributes\n",
        "\n",
        "| Name                        | Description                       |\n",
        "|-----------------------------|-----------------------------------|\n",
        "| [th](#pysegy.FileHeader.th) | bytes(iterable_of_ints) -\\> bytes |"
      ],
      "id": "0e912bed-6493-44b7-be7e-9992563afd7b"
    }
  ],
  "nbformat": 4,
  "nbformat_minor": 5,
  "metadata": {
    "kernelspec": {
      "display_name": "Python 3",
      "language": "python",
      "name": "python3"
    }
  }
}