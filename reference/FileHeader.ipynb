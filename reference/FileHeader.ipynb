{
  "cells": [
    {
      "cell_type": "markdown",
      "metadata": {},
      "source": [
        "# \n",
        "\n",
        "# FileHeader\n",
        "\n",
        "``` python\n",
        "FileHeader(th=b' ' * 3200, bfh=BinaryFileHeader())\n",
        "```\n",
        "\n",
        "Combined textual and binary file header.\n",
        "\n",
        "## Attributes\n",
        "\n",
        "| Name                        | Description                       |\n",
        "|-----------------------------|-----------------------------------|\n",
        "| [th](#pysegy.FileHeader.th) | bytes(iterable_of_ints) -\\> bytes |"
      ],
      "id": "555d0d23-9e55-4bbf-a5db-4f2de4218893"
    }
  ],
  "nbformat": 4,
  "nbformat_minor": 5,
  "metadata": {
    "kernelspec": {
      "display_name": "Python 3",
      "language": "python",
      "name": "python3"
    }
  }
}