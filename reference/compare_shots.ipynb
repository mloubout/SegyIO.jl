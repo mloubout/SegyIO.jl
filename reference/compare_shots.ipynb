{
  "cells": [
    {
      "cell_type": "markdown",
      "metadata": {},
      "source": [
        "# \n",
        "\n",
        "# compare_shots\n",
        "\n",
        "``` python\n",
        "compare_shots(\n",
        "    shot1,\n",
        "    shot2,\n",
        "    spacing=None,\n",
        "    *,\n",
        "    cmap='gray',\n",
        "    side_by_side=False,\n",
        "    chunksize=20,\n",
        "    **kw,\n",
        ")\n",
        "```\n",
        "\n",
        "Overlay or juxtapose two shot gathers for comparison.\n",
        "\n",
        "## Parameters\n",
        "\n",
        "| Name | Type | Description | Default |\n",
        "|-------|--------------------------|--------------------------------|---------|\n",
        "| shot1 | array - like or SeisBlock or ShotRecord | Gather data to compare. | *required* |\n",
        "| shot2 | array - like or SeisBlock or ShotRecord | Gather data to compare. | *required* |\n",
        "| spacing | (float, float) | Spacing applied when not deduced from the inputs. | `None` |"
      ],
      "id": "63cbef75-f9af-4f9c-8a1f-965c6634c363"
    }
  ],
  "nbformat": 4,
  "nbformat_minor": 5,
  "metadata": {
    "kernelspec": {
      "display_name": "Python 3",
      "language": "python",
      "name": "python3"
    }
  }
}