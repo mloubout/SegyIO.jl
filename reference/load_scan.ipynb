{
  "cells": [
    {
      "cell_type": "markdown",
      "metadata": {},
      "source": [
        "# \n",
        "\n",
        "# load_scan\n",
        "\n",
        "``` python\n",
        "load_scan(path, fs=None)\n",
        "```\n",
        "\n",
        "Load a :class:`SegyScan` previously saved with :func:`save_scan`.\n",
        "\n",
        "## Parameters\n",
        "\n",
        "| Name | Type | Description | Default |\n",
        "|-----|------------|--------------------------------------------------|-------|\n",
        "| path | str | File system path of the saved object. When `fs` is provided the path is interpreted relative to that filesystem. | *required* |\n",
        "| fs | filesystem-like object | Filesystem providing `open` when reading from non-local storage. | `None` |\n",
        "\n",
        "## Returns\n",
        "\n",
        "| Name | Type     | Description               |\n",
        "|------|----------|---------------------------|\n",
        "|      | SegyScan | Deserialized scan object. |"
      ],
      "id": "ad9147d1-ca47-46fc-8d52-86a3b300cd31"
    }
  ],
  "nbformat": 4,
  "nbformat_minor": 5,
  "metadata": {
    "kernelspec": {
      "display_name": "Python 3",
      "language": "python",
      "name": "python3"
    }
  }
}