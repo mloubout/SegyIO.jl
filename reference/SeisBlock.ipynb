{
  "cells": [
    {
      "cell_type": "markdown",
      "metadata": {},
      "source": [
        "# \n",
        "\n",
        "# SeisBlock\n",
        "\n",
        "``` python\n",
        "SeisBlock(fileheader, traceheaders, data)\n",
        "```\n",
        "\n",
        "In-memory representation of a SEGY dataset."
      ],
      "id": "88f0de2e-0054-4e1c-a5ea-8d4ed3ee0b6d"
    }
  ],
  "nbformat": 4,
  "nbformat_minor": 5,
  "metadata": {
    "kernelspec": {
      "display_name": "Python 3",
      "language": "python",
      "name": "python3"
    }
  }
}