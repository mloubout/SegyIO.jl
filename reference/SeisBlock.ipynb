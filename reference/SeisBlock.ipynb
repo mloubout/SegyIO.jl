{
  "cells": [
    {
      "cell_type": "markdown",
      "metadata": {},
      "source": [
        "# \n",
        "\n",
        "# SeisBlock\n",
        "\n",
        "``` python\n",
        "SeisBlock(fileheader, traceheaders, data)\n",
        "```\n",
        "\n",
        "In-memory representation of a SEGY dataset."
      ],
      "id": "f8cbf685-30d9-4933-aba1-e7878bd7224e"
    }
  ],
  "nbformat": 4,
  "nbformat_minor": 5,
  "metadata": {
    "kernelspec": {
      "display_name": "Python 3",
      "language": "python",
      "name": "python3"
    }
  }
}