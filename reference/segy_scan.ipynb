{
  "cells": [
    {
      "cell_type": "markdown",
      "metadata": {},
      "source": [
        "# \n",
        "\n",
        "# segy_scan\n",
        "\n",
        "``` python\n",
        "segy_scan(\n",
        "    path,\n",
        "    file_key=None,\n",
        "    keys=None,\n",
        "    chunk=1024,\n",
        "    depth_key='SourceDepth',\n",
        "    rec_depth_key='GroupWaterDepth',\n",
        "    threads=None,\n",
        "    fs=None,\n",
        ")\n",
        "```\n",
        "\n",
        "Scan one or more SEGY files and merge the results.\n",
        "\n",
        "## Parameters\n",
        "\n",
        "| Name | Type | Description | Default |\n",
        "|-------|-----------|----------------------------------------------|---------|\n",
        "| path | str | Directory containing SEGY files or a single file path. | *required* |\n",
        "| file_key | str | Glob pattern selecting files within `path`. When omitted and `path` points to a file, only that file is scanned. | `None` |\n",
        "| keys | Iterable\\[str\\] | Additional header fields to summarise while scanning. | `None` |\n",
        "| chunk | int | Number of traces to read per block. | `1024` |\n",
        "| depth_key | str | Header name containing the source depth. | `'SourceDepth'` |\n",
        "| rec_depth_key | str | Header field containing the receiver depth. | `'GroupWaterDepth'` |\n",
        "| fs | filesystem-like object | Filesystem providing `open` and `glob` if scanning non-local paths. | `None` |\n",
        "\n",
        "## Returns\n",
        "\n",
        "| Name | Type     | Description                                         |\n",
        "|------|----------|-----------------------------------------------------|\n",
        "|      | SegyScan | Combined scan object describing all detected shots. |"
      ],
      "id": "1f095d91-1e72-47ea-8f03-5591d4ae5e3b"
    }
  ],
  "nbformat": 4,
  "nbformat_minor": 5,
  "metadata": {
    "kernelspec": {
      "display_name": "Python 3",
      "language": "python",
      "name": "python3"
    }
  }
}