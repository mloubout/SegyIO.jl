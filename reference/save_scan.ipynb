{
  "cells": [
    {
      "cell_type": "markdown",
      "metadata": {},
      "source": [
        "# \n",
        "\n",
        "# save_scan\n",
        "\n",
        "``` python\n",
        "save_scan(path, scan, fs=None)\n",
        "```\n",
        "\n",
        "Serialize `scan` to `path`.\n",
        "\n",
        "## Parameters\n",
        "\n",
        "| Name | Type | Description | Default |\n",
        "|-----|-------------|------------------------------------------------|-------|\n",
        "| path | str | Destination file path. When `fs` is provided the path is interpreted relative to that filesystem. | *required* |\n",
        "| scan | SegyScan | Object to serialize. | *required* |\n",
        "| fs | filesystem-like object | Filesystem providing `open` when writing to non-local storage. | `None` |"
      ],
      "id": "e9d720d1-e301-4cb8-8159-a39891951bfe"
    }
  ],
  "nbformat": 4,
  "nbformat_minor": 5,
  "metadata": {
    "kernelspec": {
      "display_name": "Python 3",
      "language": "python",
      "name": "python3"
    }
  }
}