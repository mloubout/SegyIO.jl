{
  "cells": [
    {
      "cell_type": "markdown",
      "metadata": {},
      "source": [
        "# \n",
        "\n",
        "# save_scan\n",
        "\n",
        "``` python\n",
        "save_scan(path, scan, fs=None)\n",
        "```\n",
        "\n",
        "Serialize `scan` to `path`.\n",
        "\n",
        "## Parameters\n",
        "\n",
        "| Name | Type | Description | Default |\n",
        "|-----|-------------|------------------------------------------------|-------|\n",
        "| path | str | Destination file path. When `fs` is provided the path is interpreted relative to that filesystem. | *required* |\n",
        "| scan | SegyScan | Object to serialize. | *required* |\n",
        "| fs | filesystem-like object | Filesystem providing `open` when writing to non-local storage. | `None` |"
      ],
      "id": "a4a84ef2-c1fd-4ec6-a246-c8fe05a89505"
    }
  ],
  "nbformat": 4,
  "nbformat_minor": 5,
  "metadata": {
    "kernelspec": {
      "display_name": "Python 3",
      "language": "python",
      "name": "python3"
    }
  }
}