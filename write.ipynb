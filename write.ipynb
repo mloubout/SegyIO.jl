{
  "cells": [
    {
      "cell_type": "markdown",
      "metadata": {},
      "source": [
        "# Write\n",
        "\n",
        "Writing SEGY files mirrors the reading workflow."
      ],
      "id": "b6ccdae6-8ab4-45c1-87b9-20eb12af0346"
    },
    {
      "cell_type": "code",
      "execution_count": 1,
      "metadata": {},
      "outputs": [
        {
          "output_type": "stream",
          "name": "stdout",
          "text": [
            "Writing SEGY file out.segy\n",
            "Finished writing out.segy"
          ]
        }
      ],
      "source": [
        "import numpy as np\n",
        "import pysegy as seg\n",
        "\n",
        "fh = seg.FileHeader()\n",
        "fh.bfh.ns = 2\n",
        "fh.bfh.DataSampleFormat = 5\n",
        "\n",
        "# two traces with minimal headers\n",
        "hdr = seg.BinaryTraceHeader()\n",
        "hdr.ns = 2\n",
        "\n",
        "data = np.array([[1.0], [2.0]], dtype=np.float32)\n",
        "block = seg.SeisBlock(fh, [hdr], data)\n",
        "\n",
        "seg.segy_write(\"out.segy\", block)"
      ],
      "id": "a89880f2"
    },
    {
      "cell_type": "markdown",
      "metadata": {},
      "source": [
        "The [pysegy.segy_write](reference/segy_write.html#pysegy.segy_write)\n",
        "helper takes a [pysegy.SeisBlock](reference/SeisBlock.html) and writes a\n",
        "complete SEGY file to disk."
      ],
      "id": "534979db-a43f-4107-884b-345cd42640e8"
    }
  ],
  "nbformat": 4,
  "nbformat_minor": 5,
  "metadata": {
    "kernelspec": {
      "name": "python3",
      "display_name": "Python 3 (ipykernel)",
      "language": "python",
      "path": "/opt/hostedtoolcache/Python/3.11.13/x64/share/jupyter/kernels/python3"
    },
    "language_info": {
      "name": "python",
      "codemirror_mode": {
        "name": "ipython",
        "version": "3"
      },
      "file_extension": ".py",
      "mimetype": "text/x-python",
      "nbconvert_exporter": "python",
      "pygments_lexer": "ipython3",
      "version": "3.11.13"
    }
  }
}