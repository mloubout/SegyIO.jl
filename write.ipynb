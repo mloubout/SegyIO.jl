{
  "cells": [
    {
      "cell_type": "markdown",
      "metadata": {},
      "source": [
        "# Write\n",
        "\n",
        "Writing SEGY files mirrors the reading workflow."
      ],
      "id": "f2ad69b5-8a61-4f06-b7e1-7871cf732fb7"
    },
    {
      "cell_type": "code",
      "execution_count": 1,
      "metadata": {},
      "outputs": [
        {
          "output_type": "stream",
          "name": "stdout",
          "text": [
            "Writing SEGY file out.segy\n",
            "Finished writing out.segy"
          ]
        }
      ],
      "source": [
        "import numpy as np\n",
        "import pysegy as seg\n",
        "\n",
        "fh = seg.FileHeader()\n",
        "fh.bfh.ns = 2\n",
        "fh.bfh.DataSampleFormat = 5\n",
        "\n",
        "# two traces with minimal headers\n",
        "hdr = seg.BinaryTraceHeader()\n",
        "hdr.ns = 2\n",
        "\n",
        "data = np.array([[1.0], [2.0]], dtype=np.float32)\n",
        "block = seg.SeisBlock(fh, [hdr], data)\n",
        "\n",
        "seg.segy_write(\"out.segy\", block)"
      ],
      "id": "8980c782"
    },
    {
      "cell_type": "markdown",
      "metadata": {},
      "source": [
        "The [pysegy.segy_write](reference/pysegy.qmd#segy_write) helper takes a\n",
        "[pysegy.SeisBlock](reference/pysegy.qmd#SeisBlock) and writes a complete\n",
        "SEGY file to disk."
      ],
      "id": "1d460cb4-c372-43f7-9020-fa0a3add90aa"
    }
  ],
  "nbformat": 4,
  "nbformat_minor": 5,
  "metadata": {
    "kernelspec": {
      "name": "python3",
      "display_name": "Python 3 (ipykernel)",
      "language": "python",
      "path": "/opt/hostedtoolcache/Python/3.11.12/x64/share/jupyter/kernels/python3"
    },
    "language_info": {
      "name": "python",
      "codemirror_mode": {
        "name": "ipython",
        "version": "3"
      },
      "file_extension": ".py",
      "mimetype": "text/x-python",
      "nbconvert_exporter": "python",
      "pygments_lexer": "ipython3",
      "version": "3.11.12"
    }
  }
}