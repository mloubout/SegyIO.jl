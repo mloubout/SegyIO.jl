{
 "cells": [
  {
   "cell_type": "markdown",
   "id": "83057b02",
   "metadata": {},
   "source": [
    "# Plotting utilities example"
   ]
  },
  {
   "cell_type": "code",
   "execution_count": null,
   "id": "09006bf6",
   "metadata": {},
   "outputs": [],
   "source": [
    "import numpy as np\n",
    "import pysegy as seg\n",
    "from pysegy import plot_sdata, plot_simage, plot_velocity, plot_fslice, compare_shots, wiggle_plot\n",
    "import matplotlib.pyplot as plt\n"
   ]
  },
  {
   "cell_type": "code",
   "execution_count": null,
   "id": "41b4fd9b",
   "metadata": {},
   "outputs": [],
   "source": [
    "block = seg.segy_read('../data/overthrust_2D_shot_1_20.segy')\n",
    "data = block.data\n",
    "dt = block.fileheader.bfh.dt / 1e6\n",
    "dx = 50.0\n"
   ]
  },
  {
   "cell_type": "code",
   "execution_count": null,
   "id": "3b5a8858",
   "metadata": {},
   "outputs": [],
   "source": [
    "plot_sdata(data[:, :200], (dt, dx), cbar=True, name='Shot record')\n"
   ]
  },
  {
   "cell_type": "code",
   "execution_count": null,
   "id": "d897b937",
   "metadata": {},
   "outputs": [],
   "source": [
    "compare_shots(data[:, :200], data[:, :200], (dt, dx), chunksize=10)\n"
   ]
  },
  {
   "cell_type": "code",
   "execution_count": null,
   "id": "c864cffa",
   "metadata": {},
   "outputs": [],
   "source": [
    "wiggle_plot(data[::5, :100], np.arange(0, 100*dx, dx), np.arange(0, data.shape[0]*dt, dt)[::5])\n"
   ]
  },
  {
   "cell_type": "code",
   "execution_count": null,
   "id": "563f8bf3",
   "metadata": {},
   "outputs": [],
   "source": [
    "vel = np.outer(np.linspace(1500, 3500, data.shape[0]), np.ones(200))\n",
    "plot_velocity(vel, (10.0, dx))\n"
   ]
  },
  {
   "cell_type": "code",
   "execution_count": null,
   "id": "ac0297ac",
   "metadata": {},
   "outputs": [],
   "source": [
    "assert data.shape[0] == block.fileheader.bfh.ns\n",
    "assert data.shape[1] >= 200"
   ]
  }
 ],
 "metadata": {
  "kernelspec": {
   "display_name": "python3",
   "language": "python",
   "name": "python3"
  },
  "language_info": {
   "name": "python",
   "version": "3.12"
  }
 },
 "nbformat": 4,
 "nbformat_minor": 5
}
