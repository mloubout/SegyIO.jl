{
 "cells": [
  {
   "cell_type": "markdown",
   "id": "c03791b4",
   "metadata": {},
   "source": [
    "# Read and Write SEGY files with pysegy"
   ]
  },
  {
   "cell_type": "markdown",
   "id": "93dcac81",
   "metadata": {},
   "source": [
    "This tutorial demonstrates how to read existing SEGY data shipped with the repository and how to write new files using **pysegy**. We use one of the example files located in the `data` directory."
   ]
  },
  {
   "cell_type": "code",
   "execution_count": null,
   "id": "ea42df00",
   "metadata": {},
   "outputs": [],
   "source": [
    "import sys\n",
    "sys.path.append('..')  # allow importing the local pysegy package\n",
    "import pysegy as seg\n",
    "import fsspec\n",
    "import matplotlib.pyplot as plt"
   ]
  },
  {
   "cell_type": "markdown",
   "id": "a4a05490",
   "metadata": {},
   "source": [
    "## Read a SEGY file\n",
    "We first load the file using `segy_read` without specifying a filesystem."
   ]
  },
  {
   "cell_type": "code",
   "execution_count": null,
   "id": "ed264076",
   "metadata": {},
   "outputs": [],
   "source": [
    "path = '../data/overthrust_2D_shot_1_20.segy'\n",
    "block = seg.segy_read(path)\n",
    "print('Samples per trace:', block.fileheader.bfh.ns)\n",
    "print('Number of traces:', len(block.traceheaders))"
   ]
  },
  {
   "cell_type": "markdown",
   "id": "35197789",
   "metadata": {},
   "source": [
    "The first trace header contains a variety of fields. Here we display a few common values."
   ]
  },
  {
   "cell_type": "code",
   "execution_count": null,
   "id": "ced79ae4",
   "metadata": {},
   "outputs": [],
   "source": [
    "hdr = block.traceheaders[0]\n",
    "print('SourceX:', hdr.SourceX)\n",
    "print('GroupX:', hdr.GroupX)\n",
    "print('ns:', hdr.ns)"
   ]
  },
  {
   "cell_type": "markdown",
   "id": "5c7f6a5a",
   "metadata": {},
   "source": [
    "### Visualise a trace\n",
    "The trace data are stored in a NumPy array. The following plot shows the amplitudes of the first trace."
   ]
  },
  {
   "cell_type": "code",
   "execution_count": null,
   "id": "6e4e7239",
   "metadata": {},
   "outputs": [],
   "source": [
    "plt.figure(figsize=(6,3))\n",
    "plt.plot(block.data[:,0])\n",
    "plt.title('Trace 0')\n",
    "plt.xlabel('Sample')\n",
    "plt.ylabel('Amplitude')\n",
    "plt.tight_layout()\n",
    "plt.show()"
   ]
  },
  {
   "cell_type": "markdown",
   "id": "4451927c",
   "metadata": {},
   "source": [
    "### Visualise the whole gather\n",
    "Using `imshow` helps see the shot as an image."
   ]
  },
  {
   "cell_type": "code",
   "execution_count": null,
   "id": "77a01eb4",
   "metadata": {},
   "outputs": [],
   "source": [
    "plt.figure(figsize=(8,4))\n",
    "plt.imshow(block.data[:, :800], aspect='auto', cmap='gray', vmin=-1e0, vmax=1e0)\n",
    "plt.title('Shot gather')\n",
    "plt.xlabel('Trace')\n",
    "plt.ylabel('Sample')\n",
    "plt.show()"
   ]
  },
  {
   "cell_type": "markdown",
   "id": "f66d5b2d",
   "metadata": {},
   "source": [
    "## Write a new file\n",
    "We create a small subset containing the first 20 traces and write it to a temporary file."
   ]
  },
  {
   "cell_type": "code",
   "execution_count": null,
   "id": "48c0a64b",
   "metadata": {},
   "outputs": [],
   "source": [
    "subset = seg.SeisBlock(block.fileheader, block.traceheaders[:20], block.data[:, :20])\n",
    "out_path = 'subset.segy'\n",
    "seg.segy_write(out_path, subset)\n",
    "# reload to verify\n",
    "out = seg.segy_read(out_path)\n",
    "print('Wrote and reloaded', out_path, 'with', len(out.traceheaders), 'traces')"
   ]
  },
  {
   "cell_type": "markdown",
   "id": "a0b558ad",
   "metadata": {},
   "source": [
    "## Using fsspec filesystems\n",
    "The same functions work with any filesystem that follows the `fsspec` interface. Here we use the local `file` implementation."
   ]
  },
  {
   "cell_type": "code",
   "execution_count": null,
   "id": "1459e58e",
   "metadata": {},
   "outputs": [],
   "source": [
    "fs = fsspec.filesystem('file')\n",
    "block_fs = seg.segy_read(path, fs=fs)\n",
    "print('Read with filesystem, ns =', block_fs.fileheader.bfh.ns)\n",
    "fs_path = 'subset_fs.segy'\n",
    "seg.segy_write(fs_path, subset, fs=fs)\n",
    "reloaded = seg.segy_read(fs_path, fs=fs)\n",
    "print('Reloaded via fs, traces =', len(reloaded.traceheaders))"
   ]
  },
  {
   "cell_type": "markdown",
   "id": "edf02126",
   "metadata": {},
   "source": [
    "## Scan the full dataset\n",
    "We can scan all the overthrust files and access each shot without loading everything at once."
   ]
  },
  {
   "cell_type": "code",
   "execution_count": null,
   "id": "34fbb2a2",
   "metadata": {},
   "outputs": [],
   "source": [
    "scan = seg.segy_scan('../data', 'overthrust_2D_shot_*.segy')\n",
    "print('Shots found:', len(scan))"
   ]
  },
  {
   "cell_type": "code",
   "execution_count": null,
   "id": "da0fe219",
   "metadata": {},
   "outputs": [],
   "source": [
    "first = scan[0]\n",
    "plt.figure(figsize=(8,4))\n",
    "plt.imshow(first.data, aspect='auto', cmap='gray', vmin=-1e0, vmax=1e0)\n",
    "plt.title('First shot from scan')\n",
    "plt.xlabel('Trace')\n",
    "plt.ylabel('Sample')\n",
    "plt.show()"
   ]
  },
  {
   "cell_type": "code",
   "execution_count": null,
   "id": "936d2445",
   "metadata": {},
   "outputs": [],
   "source": [
    "assert block.fileheader.bfh.ns == block.data.shape[0]\n",
    "assert len(block.traceheaders) == block.data.shape[1]"
   ]
  }
 ],
 "metadata": {
  "kernelspec": {
   "display_name": "Python 3",
   "language": "python",
   "name": "python3"
  },
  "language_info": {
   "codemirror_mode": {
    "name": "ipython",
    "version": 3
   },
   "file_extension": ".py",
   "mimetype": "text/x-python",
   "name": "python",
   "nbconvert_exporter": "python",
   "pygments_lexer": "ipython3",
   "version": "3.13.5"
  }
 },
 "nbformat": 4,
 "nbformat_minor": 5
}
