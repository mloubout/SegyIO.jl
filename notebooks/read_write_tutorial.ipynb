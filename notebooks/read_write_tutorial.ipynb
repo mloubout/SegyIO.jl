{
 "cells": [
  {
   "cell_type": "markdown",
   "id": "c03791b4",
   "metadata": {},
   "source": [
    "# Read and Write SEGY files with pysegy"
   ]
  },
  {
   "cell_type": "markdown",
   "id": "93dcac81",
   "metadata": {},
   "source": [
    "This tutorial demonstrates how to read existing SEGY data shipped with the repository and how to write new files using **pysegy**. We use one of the example files located in the `data` directory."
   ]
  },
  {
   "cell_type": "code",
   "execution_count": null,
   "id": "ea42df00",
   "metadata": {},
   "outputs": [],
   "source": [
    "import sys\n",
    "sys.path.append('..')  # allow importing the local pysegy package\n",
    "import pysegy as seg\n",
    "import fsspec\n",
    "import matplotlib.pyplot as plt"
   ]
  },
  {
   "cell_type": "markdown",
   "id": "a4a05490",
   "metadata": {},
   "source": [
    "## Read a SEGY file\n",
    "We first load the file using `segy_read` without specifying a filesystem."
   ]
  },
  {
   "cell_type": "code",
   "execution_count": null,
   "id": "ed264076",
   "metadata": {},
   "outputs": [],
   "source": [
    "path = '../data/overthrust_2D_shot_1_20.segy'\n",
    "block = seg.segy_read(path)\n",
    "print('Samples per trace:', block.fileheader.bfh.ns)\n",
    "print('Number of traces:', len(block.traceheaders))"
   ]
  },
  {
   "cell_type": "markdown",
   "id": "35197789",
   "metadata": {},
   "source": [
    "The first trace header contains a variety of fields. Here we display a few common values."
   ]
  },
  {
   "cell_type": "code",
   "execution_count": null,
   "id": "ced79ae4",
   "metadata": {},
   "outputs": [],
   "source": [
    "hdr = block.traceheaders[0]\n",
    "print('SourceX:', hdr.SourceX)\n",
    "print('GroupX:', hdr.GroupX)\n",
    "print('ns:', hdr.ns)"
   ]
  },
  {
   "cell_type": "markdown",
   "id": "5c7f6a5a",
   "metadata": {},
   "source": [
    "### Visualise a trace\n",
    "The trace data are stored in a NumPy array. The following plot shows the amplitudes of the first trace."
   ]
  },
  {
   "cell_type": "code",
   "execution_count": null,
   "id": "6e4e7239",
   "metadata": {},
   "outputs": [],
   "source": [
    "plt.figure(figsize=(6,3))\n",
    "plt.plot(block.data[:,0])\n",
    "plt.title('Trace 0')\n",
    "plt.xlabel('Sample')\n",
    "plt.ylabel('Amplitude')\n",
    "plt.tight_layout()\n",
    "plt.show()"
   ]
  },
  {
   "cell_type": "markdown",
   "id": "f66d5b2d",
   "metadata": {},
   "source": [
    "## Write a new file\n",
    "We create a small subset containing the first 20 traces and write it to a temporary file."
   ]
  },
  {
   "cell_type": "code",
   "execution_count": null,
   "id": "48c0a64b",
   "metadata": {},
   "outputs": [],
   "source": [
    "subset = seg.SeisBlock(block.fileheader, block.traceheaders[:20], block.data[:, :20])\n",
    "out_path = 'subset.segy'\n",
    "seg.segy_write(out_path, subset)\n",
    "# reload to verify\n",
    "out = seg.segy_read(out_path)\n",
    "print('Wrote and reloaded', out_path, 'with', len(out.traceheaders), 'traces')"
   ]
  },
  {
   "cell_type": "markdown",
   "id": "a0b558ad",
   "metadata": {},
   "source": [
    "## Using fsspec filesystems\n",
    "The same functions work with any filesystem that follows the `fsspec` interface. Here we use the local `file` implementation."
   ]
  },
  {
   "cell_type": "code",
   "execution_count": null,
   "id": "1459e58e",
   "metadata": {},
   "outputs": [],
   "source": [
    "fs = fsspec.filesystem('file')\n",
    "block_fs = seg.segy_read(path, fs=fs)\n",
    "print('Read with filesystem, ns =', block_fs.fileheader.bfh.ns)\n",
    "fs_path = 'subset_fs.segy'\n",
    "seg.segy_write(fs_path, subset, fs=fs)\n",
    "reloaded = seg.segy_read(fs_path, fs=fs)\n",
    "print('Reloaded via fs, traces =', len(reloaded.traceheaders))"
   ]
  }
 ],
 "metadata": {},
 "nbformat": 4,
 "nbformat_minor": 5
}
