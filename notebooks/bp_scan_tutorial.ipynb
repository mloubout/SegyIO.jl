{
  "cells": [
    {
      "cell_type": "markdown",
      "id": "5d087462",
      "metadata": {},
      "source": [
        "# Scanning the BP dataset with pysegy\n",
        "\n",
        "This notebook demonstrates how to download the BP 1994 2-D seismic dataset, scan it using the `pysegy` utilities and then visualise the source and receiver positions as well as a few shot gathers."
      ]
    },
    {
      "cell_type": "code",
      "execution_count": null,
      "id": "d9ae6502",
      "metadata": {},
      "outputs": [],
      "source": [
        "import sys\n",
        "sys.path.append('..')  # allow importing the local pysegy package\n",
        "import pysegy\n",
        "import urllib.request, gzip, os, shutil\n",
        "import numpy as np\n",
        "import matplotlib.pyplot as plt\n"
      ]
    },
    {
      "cell_type": "code",
      "execution_count": null,
      "id": "f1d7b408",
      "metadata": {},
      "outputs": [],
      "source": [
        "bp_url = 'http://s3.amazonaws.com/open.source.geoscience/open_data/bpstatics94/7m_shots_0601_0869.segy.gz'\n",
        "local_gz = '7m_shots_0601_0869.segy.gz'\n",
        "local_segy = '7m_shots_0601_0869.segy'\n",
        "\n",
        "if not os.path.exists(local_segy):\n",
        "    print('Downloading BP dataset...')\n",
        "    with urllib.request.urlopen(bp_url) as resp, open(local_gz, 'wb') as f:\n",
        "        shutil.copyfileobj(resp, f)\n",
        "    with gzip.open(local_gz, 'rb') as gz, open(local_segy, 'wb') as out:\n",
        "        shutil.copyfileobj(gz, out)\n"
      ]
    },
    {
      "cell_type": "code",
      "execution_count": null,
      "id": "988ebe85",
      "metadata": {},
      "outputs": [],
      "source": [
        "\n",
        "# Scan the SEGY file to find shot locations and offsets\n",
        "scan = pysegy.segy_scan(local_segy)\n",
        "shots = np.array(scan.shots)\n",
        "offsets = np.array(scan.offsets)\n",
        "counts = np.array(scan.counts)\n",
        "fh = scan.fileheader\n",
        "print(f'Total shots: {len(shots)}')\n",
        "print('Samples per trace:', fh.bfh.ns)\n"
      ]
    },
    {
      "cell_type": "code",
      "execution_count": null,
      "id": "63d7e8bd",
      "metadata": {},
      "outputs": [],
      "source": [
        "\n",
        "plt.figure(figsize=(6,5))\n",
        "plt.scatter(shots[:,0], shots[:,1], s=4)\n",
        "plt.xlabel('SourceX')\n",
        "plt.ylabel('SourceY')\n",
        "plt.title('Source Positions')\n",
        "plt.axis('equal')\n",
        "plt.show()\n"
      ]
    },
    {
      "cell_type": "code",
      "execution_count": null,
      "id": "e649b7b0",
      "metadata": {},
      "outputs": [],
      "source": [
        "\n",
        "# Plot a few shot gathers using the lazy reader\n",
        "for i in range(3):\n",
        "    block = scan.read_shot(i)\n",
    "    data = np.array(block.data, dtype=np.float32)\n",
    "    plt.figure(figsize=(8,4))\n",
    "    plt.imshow(data, aspect='auto', cmap='gray')\n",
        "    plt.title(f'Shot gather {i+1}')\n",
        "    plt.xlabel('Trace')\n",
        "    plt.ylabel('Sample')\n",
        "    plt.show()\n"
      ]
    },
    {
      "cell_type": "code",
      "execution_count": null,
      "id": "8188177d",
      "metadata": {},
      "outputs": [],
      "source": [
        "\n",
    "# Receiver spread across all sources\n",
    "xvals = []\n",
    "src_ids = []\n",
    "for i in range(len(scan)):\n",
    "    hdrs = scan.read_headers(i, keys=['GroupX'])\n",
    "    xvals.extend(h.GroupX for h in hdrs)\n",
    "    src_ids.extend([i] * len(hdrs))\n",
        "plt.figure(figsize=(8,5))\n",
        "plt.scatter(xvals, src_ids, s=2)\n",
        "plt.xlabel('X')\n",
        "plt.ylabel('Source number')\n",
        "plt.title('Receiver spread')\n",
        "plt.show()\n"
      ]
    }
  ],
  "metadata": {},
  "nbformat": 4,
  "nbformat_minor": 5
}
