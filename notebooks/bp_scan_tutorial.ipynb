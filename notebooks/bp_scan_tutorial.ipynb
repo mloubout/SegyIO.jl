{
 "cells": [
  {
   "cell_type": "markdown",
   "id": "5d087462",
   "metadata": {},
   "source": [
    "# Scanning the BP dataset with pysegy\n",
    "\n",
    "This notebook demonstrates how to download the BP 1994 2-D seismic dataset, scan it using the `pysegy` utilities and then visualise the source and receiver positions as well as a few shot gathers."
   ]
  },
  {
   "cell_type": "code",
   "execution_count": null,
   "id": "d9ae6502",
   "metadata": {},
   "outputs": [],
   "source": [
    "import sys\n",
    "sys.path.append('..')  # allow importing the local pysegy package\n",
    "import pysegy\n",
    "import urllib.request, gzip, os, shutil\n",
    "import numpy as np\n",
    "import matplotlib.pyplot as plt\n"
   ]
  },
  {
   "cell_type": "code",
   "execution_count": null,
   "id": "f1d7b408",
   "metadata": {},
   "outputs": [],
   "source": [
    "path = '../data/overthrust_2D_shot_1_20.segy'"
   ]
  },
  {
   "cell_type": "code",
   "execution_count": null,
   "id": "988ebe85",
   "metadata": {},
   "outputs": [],
   "source": [
    "scan = pysegy.segy_scan(path)\n",
    "fh = scan.fileheader\n",
    "print('Total shots:', len(scan))\n",
    "print('Samples per trace:', fh.bfh.ns)"
   ]
  },
  {
   "cell_type": "code",
   "execution_count": null,
   "id": "header-demo",
   "metadata": {},
   "outputs": [],
   "source": [
    "# Display human-readable headers\n",
    "fh"
   ]
  },
  {
   "cell_type": "code",
   "execution_count": null,
   "id": "6bd43f94",
   "metadata": {},
   "outputs": [],
   "source": [
    "example_hdr = scan.read_headers(0, keys=['SourceX', 'GroupX', 'ns', \"dt\", \"SourceDepth\"])[0]\n",
    "example_hdr"
   ]
  },
  {
   "cell_type": "code",
   "execution_count": null,
   "id": "d35d5df3",
   "metadata": {},
   "outputs": [],
   "source": [
    "# Access ShotRecord directly and use lazy data\n",
    "rec = scan[0]\n",
    "hdr = rec.read_headers(keys=['SourceX'])[0]\n",
    "block = rec.data\n",
    "block"
   ]
  },
  {
   "cell_type": "code",
   "execution_count": null,
   "id": "0800859b",
   "metadata": {},
   "outputs": [],
   "source": [
    "# Receiver coordinates for a shot\n",
    "rec = scan[0]\n",
    "coords = rec.rec_coordinates\n",
    "plt.figure(figsize=(6,4))\n",
    "plt.scatter(coords[:,0], coords[:,1], s=2)\n",
    "plt.xlabel('GroupX')\n",
    "plt.ylabel('GroupY')\n",
    "plt.title('Receiver positions for first shot')\n",
    "plt.show()"
   ]
  },
  {
   "cell_type": "code",
   "execution_count": null,
   "id": "e649b7b0",
   "metadata": {},
   "outputs": [],
   "source": [
    "\n",
    "# Plot a few shot gathers using the lazy reader\n",
    "for i in range(3):\n",
    "    block = scan[i]\n",
    "    print(f'Shot {i+1} - Samples: {block.data.shape[0]}, Traces: {block.data.shape[1]}')\n",
    "    plt.figure(figsize=(8,4))\n",
    "    plt.imshow(block.data, aspect='auto', cmap='gray', vmin=-.0001, vmax=.0001)\n",
    "    plt.title(f'Shot gather {i+1}')\n",
    "    plt.xlabel('Trace')\n",
    "    plt.ylabel('Sample')\n",
    "    plt.show()\n"
   ]
  },
  {
   "cell_type": "code",
   "execution_count": null,
   "id": "8188177d",
   "metadata": {},
   "outputs": [],
   "source": [
    "\n",
    "# Receiver spread across all sources\n",
    "xvals = []\n",
    "src_ids = []\n",
    "for i in range(len(scan)):\n",
    "    hdrs = scan.read_headers(i, keys=['GroupX'])\n",
    "    xvals.extend(h.GroupX for h in hdrs)\n",
    "    src_ids.extend([i] * len(hdrs))\n",
    "plt.figure(figsize=(8,5))\n",
    "plt.scatter(xvals, src_ids, s=2)\n",
    "plt.xlabel('X')\n",
    "plt.ylabel('Source number')\n",
    "plt.title('Receiver spread')\n",
    "plt.show()\n"
   ]
  },
  {
   "cell_type": "code",
   "execution_count": null,
   "id": "9d8c1b0f",
   "metadata": {},
   "outputs": [],
   "source": [
    "assert len(scan.shots) == len(scan.counts)\n",
    "assert scan.fileheader.bfh.ns == scan[0].fileheader.bfh.ns"
   ]
  }
 ],
 "metadata": {
  "kernelspec": {
   "display_name": "Python 3",
   "language": "python",
   "name": "python3"
  },
  "language_info": {
   "codemirror_mode": {
    "name": "ipython",
    "version": 3
   },
   "file_extension": ".py",
   "mimetype": "text/x-python",
   "name": "python",
   "nbconvert_exporter": "python",
   "pygments_lexer": "ipython3",
   "version": "3.13.4"
  }
 },
 "nbformat": 4,
 "nbformat_minor": 5
}
