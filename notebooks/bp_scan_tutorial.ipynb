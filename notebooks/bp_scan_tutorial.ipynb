    "This notebook demonstrates how to download the BP 1994 2-D seismic dataset, scan it using the `pysegy` utilities and then visualise the source and receiver positions as well as a few shot gathers and receiver gathers."
  },
  {
   "cell_type": "code",
   "metadata": {},
   "execution_count": null,
   "id": "33018be0",
   "source": [
    "\n",
    "# Scan by receiver coordinates and plot a gather\n",
    "rec_scan = pysegy.segy_scan(local_segy, by_receiver=True)\n",
    "print(f'Total receiver gathers: {len(rec_scan)}')\n",
    "gather = rec_scan[0]\n",
    "plt.figure(figsize=(12, 8))\n",
    "pysegy.plot_sdata(gather, perc=90, new_fig=False, cmap='seismic')\n"
   ],
   "outputs": []
}
   "metadata": {},
   "outputs": [],
   ]
}
