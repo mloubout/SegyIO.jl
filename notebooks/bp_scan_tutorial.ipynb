{
 "cells": [
  {
   "cell_type": "markdown",
   "id": "5d087462",
   "metadata": {},
   "source": [
    "# Scanning the BP dataset with pysegy\n",
    "\n",
    "This notebook demonstrates how to download the BP 1994 2-D seismic dataset, scan it using the `pysegy` utilities and then visualise the source and receiver positions as well as a few shot gathers."
   ]
  },
  {
   "cell_type": "code",
   "execution_count": null,
   "id": "d9ae6502",
   "metadata": {},
   "outputs": [],
   "source": [
    "import sys\n",
    "sys.path.append('..')  # allow importing the local pysegy package\n",
    "import pysegy\n",
    "import urllib.request, gzip, os, shutil\n",
    "import numpy as np\n",
    "import matplotlib.pyplot as plt\n"
   ]
  },
  {
   "cell_type": "code",
   "execution_count": null,
   "id": "f1d7b408",
   "metadata": {},
   "outputs": [],
   "source": [
    "bp_url = 'http://s3.amazonaws.com/open.source.geoscience/open_data/bpmodel94/Model94_shots.segy.gz'\n",
    "local_gz = 'Model94_shots.segy.gz'\n",
    "local_segy = 'Model94_shots.segy'\n",
    "\n",
    "if not os.path.exists(local_segy):\n",
    "    print('Downloading BP dataset...')\n",
    "    with urllib.request.urlopen(bp_url) as resp, open(local_gz, 'wb') as f:\n",
    "        shutil.copyfileobj(resp, f)\n",
    "    with gzip.open(local_gz, 'rb') as gz, open(local_segy, 'wb') as out:\n",
    "        shutil.copyfileobj(gz, out)\n"
   ]
  },
  {
   "cell_type": "code",
   "execution_count": null,
   "id": "9db10724",
   "metadata": {},
   "outputs": [],
   "source": [
    "def scan_file(path):\n",
    "    with open(path, 'rb') as f:\n",
    "        fh = pysegy.read.read_fileheader(f)\n",
    "        ns = fh.bfh.ns\n",
    "        dsf = fh.bfh.DataSampleFormat\n",
    "        trace_size = 240 + ns * 4\n",
    "        f.seek(0, os.SEEK_END)\n",
    "        ntraces = (f.tell() - 3600) // trace_size\n",
    "        f.seek(3600)\n",
    "        shots = []\n",
    "        offsets = []\n",
    "        counts = []\n",
    "        current = None\n",
    "        count = 0\n",
    "        pos = 3600\n",
    "        for i in range(ntraces):\n",
    "            th = pysegy.read.read_traceheader(f)\n",
    "            if current is None:\n",
    "                current = (th.SourceX, th.SourceY)\n",
    "                offsets.append(pos)\n",
    "            if (th.SourceX, th.SourceY) != current:\n",
    "                shots.append(current)\n",
    "                counts.append(count)\n",
    "                current = (th.SourceX, th.SourceY)\n",
    "                offsets.append(pos)\n",
    "                count = 0\n",
    "            count += 1\n",
    "            f.seek(ns * 4, os.SEEK_CUR)\n",
    "            pos += trace_size\n",
    "        shots.append(current)\n",
    "        counts.append(count)\n",
    "    return fh, np.array(shots), np.array(offsets), np.array(counts)\n"
   ]
  },
  {
   "cell_type": "code",
   "execution_count": null,
   "id": "33ab5f0e",
   "metadata": {},
   "outputs": [],
   "source": [
    "fh, shots, offsets, counts = scan_file(local_segy)\n",
    "print(f'Total shots: {len(shots)}')\n",
    "print('Samples per trace:', fh.bfh.ns)\n"
   ]
  },
  {
   "cell_type": "code",
   "execution_count": null,
   "id": "e7dc72aa",
   "metadata": {},
   "outputs": [],
   "source": [
    "plt.figure(figsize=(6,5))\n",
    "plt.scatter(shots[:,0], shots[:,1], s=4)\n",
    "plt.xlabel('SourceX')\n",
    "plt.ylabel('SourceY')\n",
    "plt.title('Source Positions')\n",
    "plt.axis('equal')\n",
    "plt.show()\n"
   ]
  },
  {
   "cell_type": "code",
   "execution_count": null,
   "id": "11ce5162",
   "metadata": {},
   "outputs": [],
   "source": [
    "def read_gather(f, offset, count, ns):\n",
    "    f.seek(offset)\n",
    "    headers = []\n",
    "    traces = np.zeros((ns, count), dtype=np.float32)\n",
    "    for i in range(count):\n",
    "        th = pysegy.read.read_traceheader(f)\n",
    "        headers.append(th)\n",
    "        raw = f.read(ns * 4)\n",
    "        traces[:, i] = [pysegy.ibm.ibm_to_ieee(raw[j:j+4]) for j in range(0, ns*4, 4)]\n",
    "    return headers, traces\n",
    "\n",
    "with open(local_segy, 'rb') as f:\n",
    "    for i in range(3):\n",
    "        off = int(offsets[i])\n",
    "        cnt = int(counts[i])\n",
    "        hdrs, data = read_gather(f, off, cnt, fh.bfh.ns)\n",
    "        plt.figure(figsize=(8,4))\n",
    "        plt.imshow(data[::-1], aspect='auto', cmap='gray')\n",
    "        plt.title(f'Shot gather {i+1}')\n",
    "        plt.xlabel('Trace')\n",
    "        plt.ylabel('Sample')\n",
    "        plt.show()\n"
   ]
  },
  {
   "cell_type": "code",
   "execution_count": null,
   "id": "e1c75922",
   "metadata": {},
   "outputs": [],
   "source": [
    "# receiver positions for first shot\n",
    "off = int(offsets[0])\n",
    "count = int(counts[0])\n",
    "with open(local_segy, 'rb') as f:\n",
    "    hdrs, _ = read_gather(f, off, count, fh.bfh.ns)\n",
    "rx = [h.GroupX for h in hdrs]\n",
    "ry = [h.GroupY for h in hdrs]\n",
    "plt.figure(figsize=(6,5))\n",
    "plt.scatter(rx, ry, s=4)\n",
    "plt.scatter(shots[0,0], shots[0,1], c='r', marker='x', label='source')\n",
    "plt.xlabel('X')\n",
    "plt.ylabel('Y')\n",
    "plt.title('Receiver positions for first shot')\n",
    "plt.legend()\n",
    "plt.axis('equal')\n",
    "plt.show()\n"
   ]
  }
 ],
 "metadata": {},
 "nbformat": 4,
 "nbformat_minor": 5
}
