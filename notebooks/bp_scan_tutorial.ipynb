{
 "cells": [
  {
   "cell_type": "markdown",
   "id": "b051975f",
   "metadata": {},
   "source": [
    "# Scanning the BP Dataset\n",
    "\n",
    "This tutorial demonstrates how to use **SegyIO.jl** to scan the BP 1994 2-D seismic dataset. The `segy_scan` function builds a lookup table for fast, out-of-core access to the traces. We then plot a few shot gathers and visualize the source and receiver geometry.\n"
   ]
  },
  {
   "cell_type": "code",
   "execution_count": null,
   "id": "631472fd",
   "metadata": {
    "language": "julia"
   },
   "outputs": [],
   "source": [
    "julia\n",
    "using Pkg\n",
    "Pkg.add(\"SegyIO\")\n",
    "Pkg.add(\"PyPlot\")\n"
   ]
  },
  {
   "cell_type": "markdown",
   "id": "276741a0",
   "metadata": {},
   "source": [
    "## Download the BP dataset\n",
    "\n",
    "The full dataset is available from the [open source geoscience archive](http://s3.amazonaws.com/open.source.geoscience/open_data/bpmodel94/Model94_shots.segy.gz). The file is about 500&nbsp;MB compressed. Download and decompress it locally:\n"
   ]
  },
  {
   "cell_type": "code",
   "execution_count": null,
   "id": "bfafe7b1",
   "metadata": {},
   "outputs": [],
   "source": [
    "bash\n",
    "curl -O http://s3.amazonaws.com/open.source.geoscience/open_data/bpmodel94/Model94_shots.segy.gz\n",
    "gunzip Model94_shots.segy.gz\n"
   ]
  },
  {
   "cell_type": "markdown",
   "id": "4191afab",
   "metadata": {},
   "source": [
    "## Scan the SEGY file\n",
    "\n",
    "`segy_scan` requires the folder path, a filename filter and a list of header keys. For this dataset we scan the shot file for receiver and source coordinates:\n"
   ]
  },
  {
   "cell_type": "code",
   "execution_count": null,
   "id": "70ade057",
   "metadata": {},
   "outputs": [],
   "source": [
    "julia\n",
    "using SegyIO\n",
    "\n",
    "s = segy_scan(\"./\", \"Model94_shots.segy\", [\"GroupX\", \"GroupY\", \"SourceX\", \"SourceY\"], verbosity=1)\n"
   ]
  },
  {
   "cell_type": "markdown",
   "id": "cf53ddd5",
   "metadata": {},
   "source": [
    "The resulting object `s` is a `SeisCon`. It contains one block per shot record. You can query basic information such as the number of blocks and the number of samples per trace:\n"
   ]
  },
  {
   "cell_type": "code",
   "execution_count": null,
   "id": "e764395f",
   "metadata": {},
   "outputs": [],
   "source": [
    "julia\n",
    "length(s)       # number of shot gathers\n",
    "s.ns            # samples per trace\n"
   ]
  },
  {
   "cell_type": "markdown",
   "id": "bd0b3f77",
   "metadata": {},
   "source": [
    "## Plot source positions\n",
    "\n",
    "Source coordinates can be extracted with `get_sources`:\n"
   ]
  },
  {
   "cell_type": "code",
   "execution_count": null,
   "id": "bf4a2c0f",
   "metadata": {},
   "outputs": [],
   "source": [
    "julia\n",
    "using PyPlot\n",
    "srcs = get_sources(s) ./ 100.0  # scale to metres if coordinates are centimetres\n",
    "figure(figsize=(6,5))\n",
    "scatter(srcs[:,1], srcs[:,2], s=4)\n",
    "xlabel(\"X\")\n",
    "ylabel(\"Y\")\n",
    "title(\"Source map\")\n",
    "axis(\"equal\")\n"
   ]
  },
  {
   "cell_type": "markdown",
   "id": "f929394f",
   "metadata": {},
   "source": [
    "## Plot a few shot records\n",
    "\n",
    "Select a couple of blocks from the container and read them into memory:\n"
   ]
  },
  {
   "cell_type": "code",
   "execution_count": null,
   "id": "e4063264",
   "metadata": {},
   "outputs": [],
   "source": [
    "julia\n",
    "shots = read_con(s, [1, 50, 100])  # load three shot gathers\n",
    "for (i, blk) in enumerate(shots.blocks)\n",
    "    b = read_block!(blk, s.ns, s.dsf, Array{Float32}(undef, s.ns, 0), BinaryTraceHeader[])\n",
    "    figure(figsize=(8,4))\n",
    "    imshow(reverse(b.data, dims=1), aspect=\"auto\", cmap=\"gray\")\n",
    "    xlabel(\"Trace\")\n",
    "    ylabel(\"Time sample\")\n",
    "    title(\"Shot gather $(i)\")\n",
    "end\n"
   ]
  },
  {
   "cell_type": "markdown",
   "id": "efb6d2e0",
   "metadata": {},
   "source": [
    "## Receiver spread for one shot\n",
    "\n",
    "To display receiver coordinates we only need the headers. `read_con_headers` loads them without the large trace data:\n"
   ]
  },
  {
   "cell_type": "code",
   "execution_count": null,
   "id": "eb4fd4d4",
   "metadata": {},
   "outputs": [],
   "source": [
    "julia\n",
    "headers = read_con_headers(s, [\"GroupX\", \"GroupY\"], 1)\n",
    "rx = get_header(headers, \"GroupX\")\n",
    "ry = get_header(headers, \"GroupY\")\n",
    "figure(figsize=(6,5))\n",
    "scatter(rx, ry, s=4)\n",
    "scatter(srcs[1,1], srcs[1,2], c=\"r\", marker=\"x\", label=\"source\")\n",
    "legend()\n",
    "xlabel(\"X\")\n",
    "ylabel(\"Y\")\n",
    "title(\"Receiver positions for shot 1\")\n",
    "axis(\"equal\")\n"
   ]
  }
 ],
 "metadata": {},
 "nbformat": 4,
 "nbformat_minor": 5
}
