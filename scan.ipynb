{
  "cells": [
    {
      "cell_type": "markdown",
      "metadata": {},
      "source": [
        "# Scan\n",
        "\n",
        "Scanning allows inspecting large surveys without loading everything in\n",
        "memory."
      ],
      "id": "6dbd35bd-0999-4d0b-9022-f6d770fc6afc"
    },
    {
      "cell_type": "code",
      "execution_count": 1,
      "metadata": {},
      "outputs": [
        {
          "output_type": "stream",
          "name": "stdout",
          "text": [
            "Scanning 5 files in ../data with 4 threads\n",
            "ThreadPoolExecutor-0_0 scanning file ../data/overthrust_2D_shot_1_20.segy\n",
            "Header for ../data/overthrust_2D_shot_1_20.segy: ns=751 dt=4000\n",
            "ThreadPoolExecutor-0_1 scanning file ../data/overthrust_2D_shot_21_40.segy\n",
            "ThreadPoolExecutor-0_2 scanning file ../data/overthrust_2D_shot_41_60.segy\n",
            "Header for ../data/overthrust_2D_shot_21_40.segy: ns=751 dt=4000\n",
            "Header for ../data/overthrust_2D_shot_41_60.segy: ns=751 dt=4000\n",
            "ThreadPoolExecutor-0_3 scanning file ../data/overthrust_2D_shot_61_80.segy\n",
            "Header for ../data/overthrust_2D_shot_61_80.segy: ns=751 dt=4000\n",
            "ThreadPoolExecutor-0_0 found 20 shots in ../data/overthrust_2D_shot_1_20.segy\n",
            "ThreadPoolExecutor-0_0 scanning file ../data/overthrust_2D_shot_81_97.segy\n",
            "Header for ../data/overthrust_2D_shot_81_97.segy: ns=751 dt=4000\n",
            "ThreadPoolExecutor-0_3 found 20 shots in ../data/overthrust_2D_shot_61_80.segy\n",
            "ThreadPoolExecutor-0_2 found 20 shots in ../data/overthrust_2D_shot_41_60.segy\n",
            "ThreadPoolExecutor-0_1 found 20 shots in ../data/overthrust_2D_shot_21_40.segy\n",
            "ThreadPoolExecutor-0_0 found 17 shots in ../data/overthrust_2D_shot_81_97.segy\n",
            "Combined scan has 97 shots\n",
            "97\n",
            "127"
          ]
        }
      ],
      "source": [
        "import pysegy as seg\n",
        "\n",
        "# scan all matching files in the repository data directory\n",
        "data_dir = \"../data\"\n",
        "scan = seg.segy_scan(data_dir, \"overthrust_2D_shot_*.segy\")\n",
        "\n",
        "print(len(scan.shots))  # number of shot records\n",
        "print(scan.counts[0])   # traces in the first shot"
      ],
      "id": "1d5caa5b"
    },
    {
      "cell_type": "markdown",
      "metadata": {},
      "source": [
        "The [pysegy.segy_scan](reference/segy_scan.html#pysegy.segy_scan)\n",
        "function summarises multiple files and returns a\n",
        "[pysegy.SegyScan](reference/SegyScan.html#pysegy.SegyScan) that can\n",
        "lazily read data for each shot."
      ],
      "id": "af840224-79bf-4d5d-832b-64a9be0dbf40"
    }
  ],
  "nbformat": 4,
  "nbformat_minor": 5,
  "metadata": {
    "kernelspec": {
      "name": "python3",
      "display_name": "Python 3 (ipykernel)",
      "language": "python",
      "path": "/opt/hostedtoolcache/Python/3.11.13/x64/share/jupyter/kernels/python3"
    },
    "language_info": {
      "name": "python",
      "codemirror_mode": {
        "name": "ipython",
        "version": "3"
      },
      "file_extension": ".py",
      "mimetype": "text/x-python",
      "nbconvert_exporter": "python",
      "pygments_lexer": "ipython3",
      "version": "3.11.13"
    }
  }
}